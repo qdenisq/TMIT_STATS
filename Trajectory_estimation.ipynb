{
 "cells": [
  {
   "cell_type": "code",
   "execution_count": 24,
   "metadata": {
    "collapsed": false
   },
   "outputs": [
    {
     "name": "stdout",
     "output_type": "stream",
     "text": [
      "Populating the interactive namespace from numpy and matplotlib\n"
     ]
    },
    {
     "name": "stderr",
     "output_type": "stream",
     "text": [
      "WARNING: pylab import has clobbered these variables: ['copy', 'rate', 'colors']\n",
      "`%matplotlib` prevents importing * from pylab and numpy\n"
     ]
    },
    {
     "name": "stdout",
     "output_type": "stream",
     "text": [
      "Gestures calculation finished\n"
     ]
    },
    {
     "ename": "ValueError",
     "evalue": "max() arg is an empty sequence",
     "output_type": "error",
     "traceback": [
      "\u001b[1;31m---------------------------------------------------------------------------\u001b[0m",
      "\u001b[1;31mValueError\u001b[0m                                Traceback (most recent call last)",
      "\u001b[1;32m<ipython-input-24-ec98d344b147>\u001b[0m in \u001b[0;36m<module>\u001b[1;34m()\u001b[0m\n\u001b[0;32m     28\u001b[0m \u001b[1;32mprint\u001b[0m \u001b[1;34m\"Gestures calculation finished\"\u001b[0m\u001b[1;33m\u001b[0m\u001b[0m\n\u001b[0;32m     29\u001b[0m \u001b[1;33m\u001b[0m\u001b[0m\n\u001b[1;32m---> 30\u001b[1;33m \u001b[0mgestures_norm\u001b[0m\u001b[1;33m,\u001b[0m \u001b[0mp_max\u001b[0m\u001b[1;33m,\u001b[0m \u001b[0mp_min\u001b[0m \u001b[1;33m=\u001b[0m \u001b[0mts\u001b[0m\u001b[1;33m.\u001b[0m\u001b[0mnormalize_gestures\u001b[0m\u001b[1;33m(\u001b[0m\u001b[0mgestures\u001b[0m\u001b[1;33m)\u001b[0m\u001b[1;33m\u001b[0m\u001b[0m\n\u001b[0m\u001b[0;32m     31\u001b[0m \u001b[1;33m\u001b[0m\u001b[0m\n\u001b[0;32m     32\u001b[0m \u001b[1;32mfor\u001b[0m \u001b[0mp\u001b[0m \u001b[1;32min\u001b[0m \u001b[0mparam_names\u001b[0m\u001b[1;33m:\u001b[0m\u001b[1;33m\u001b[0m\u001b[0m\n",
      "\u001b[1;32mC:\\Users\\s3628075\\Study\\USC-TIMIT\\TMIT_STATS\\timit_stats.pyc\u001b[0m in \u001b[0;36mnormalize_gestures\u001b[1;34m(gestures)\u001b[0m\n\u001b[0;32m    128\u001b[0m     \u001b[1;32mfor\u001b[0m \u001b[0mp\u001b[0m \u001b[1;32min\u001b[0m \u001b[0mparams\u001b[0m\u001b[1;33m:\u001b[0m\u001b[1;33m\u001b[0m\u001b[0m\n\u001b[0;32m    129\u001b[0m         \u001b[1;32mfor\u001b[0m \u001b[0mg\u001b[0m \u001b[1;32min\u001b[0m \u001b[0mgestures\u001b[0m\u001b[1;33m:\u001b[0m\u001b[1;33m\u001b[0m\u001b[0m\n\u001b[1;32m--> 130\u001b[1;33m             \u001b[0mp_max\u001b[0m\u001b[1;33m[\u001b[0m\u001b[0mp\u001b[0m\u001b[1;33m]\u001b[0m \u001b[1;33m=\u001b[0m \u001b[0mmax\u001b[0m\u001b[1;33m(\u001b[0m\u001b[0mp_max\u001b[0m\u001b[1;33m[\u001b[0m\u001b[0mp\u001b[0m\u001b[1;33m]\u001b[0m\u001b[1;33m,\u001b[0m \u001b[0mmax\u001b[0m\u001b[1;33m(\u001b[0m\u001b[0mgestures\u001b[0m\u001b[1;33m[\u001b[0m\u001b[0mg\u001b[0m\u001b[1;33m]\u001b[0m\u001b[1;33m.\u001b[0m\u001b[0mparams\u001b[0m\u001b[1;33m[\u001b[0m\u001b[0mp\u001b[0m\u001b[1;33m]\u001b[0m\u001b[1;33m)\u001b[0m\u001b[1;33m)\u001b[0m\u001b[1;33m\u001b[0m\u001b[0m\n\u001b[0m\u001b[0;32m    131\u001b[0m             \u001b[0mp_min\u001b[0m\u001b[1;33m[\u001b[0m\u001b[0mp\u001b[0m\u001b[1;33m]\u001b[0m \u001b[1;33m=\u001b[0m \u001b[0mmin\u001b[0m\u001b[1;33m(\u001b[0m\u001b[0mp_min\u001b[0m\u001b[1;33m[\u001b[0m\u001b[0mp\u001b[0m\u001b[1;33m]\u001b[0m\u001b[1;33m,\u001b[0m \u001b[0mmin\u001b[0m\u001b[1;33m(\u001b[0m\u001b[0mgestures\u001b[0m\u001b[1;33m[\u001b[0m\u001b[0mg\u001b[0m\u001b[1;33m]\u001b[0m\u001b[1;33m.\u001b[0m\u001b[0mparams\u001b[0m\u001b[1;33m[\u001b[0m\u001b[0mp\u001b[0m\u001b[1;33m]\u001b[0m\u001b[1;33m)\u001b[0m\u001b[1;33m)\u001b[0m\u001b[1;33m\u001b[0m\u001b[0m\n\u001b[0;32m    132\u001b[0m \u001b[1;33m\u001b[0m\u001b[0m\n",
      "\u001b[1;31mValueError\u001b[0m: max() arg is an empty sequence"
     ]
    }
   ],
   "source": [
    "import timit_stats as ts\n",
    "import gesture as ges\n",
    "import os\n",
    "import matplotlib.pyplot as plt\n",
    "import articulation as artic\n",
    "\n",
    "%pylab inline\n",
    "\n",
    "root_dir = \"../USC-TIMIT/EMA/Data/M1\"\n",
    "t_names, m_names = zip(*ts.list_TIMIT_dir(root_dir))\n",
    "\n",
    "gestures = {}\n",
    "means = {} # key : param_name, value: dict(ges, val)\n",
    "variances = {} # key : param_name, value: dict(ges, val)\n",
    "\n",
    "articulators = [\"LL\", \"UL\", \"TT\", \"TB\", \"TD\", \"JAW\"]\n",
    "domains = [\"_x\", \"_y\"]\n",
    "param_names = [a+d for a in articulators for d in domains]\n",
    "\n",
    "for i in range(len(t_names)):\n",
    "    t_fname = t_names[i]\n",
    "    mat_fname = m_names[i]\n",
    "    gest = ts.calc_gestures(mat_fname, t_fname, filter_critical_points=True, m=0.2)\n",
    "    for g in gest:\n",
    "        if g not in gestures:\n",
    "            gestures[g] = ges.Gesture(g)\n",
    "        gestures[g].extend(gest[g])\n",
    "print \"Gestures calculation finished\"\n",
    "\n",
    "gestures_norm, p_max, p_min = ts.normalize_gestures(gestures)\n",
    "\n",
    "for p in param_names:\n",
    "    means[p] = {}\n",
    "    variances[p] = {}\n",
    "\n",
    "for g in gestures_norm:\n",
    "    g_m = gestures_norm[g].get_mean()\n",
    "    g_v = gestures_norm[g].get_variance()\n",
    "    for p in param_names:\n",
    "        means[p][g] = g_m[p]*(p_max[p]-p_min[p]) + p_min[p]\n",
    "        variances[p][g] = g_v[p]\n",
    "\n",
    "print \"Means and variances calculated successfully\"\n",
    "\n"
   ]
  },
  {
   "cell_type": "code",
   "execution_count": null,
   "metadata": {
    "collapsed": false
   },
   "outputs": [],
   "source": [
    "index = 19\n",
    "trans_fname = t_names[index]\n",
    "mat_fname = m_names[index]\n",
    "\n",
    "# parse .trans file\n",
    "t_starts, t_ends, phonemes, words, sentences = ts.parse_transcription(trans_fname)\n",
    "# parse .mat file\n",
    "params, srates = ts.parse_mat(mat_fname)\n",
    "# estimate trajectory\n",
    "estimated_trajectories = artic.estimate_trajectory(trans_fname, means, variances, srates[\"TT_x\"])\n",
    "# target trajectories\n",
    "target_trajectories = artic.get_target_trajectories(trans_fname, means, rate=srates[\"TT_x\"])\n",
    "\n",
    "true_trajectories = params"
   ]
  },
  {
   "cell_type": "code",
   "execution_count": null,
   "metadata": {
    "collapsed": false
   },
   "outputs": [],
   "source": [
    "import copy\n",
    "\n",
    "cmap = plt.get_cmap('gist_heat')\n",
    "colors = [cmap(i) for i in range(100)]\n",
    "\n",
    "param_names = [\"LL_y\", \"TT_y\", \"TB_y\", \"TD_y\", \"TT_x\", \"TB_x\", \"TD_x\"]\n",
    "\n",
    "t_start = 1.0\n",
    "t_end = 3.5\n",
    "i_start = int(t_start*srates[p])\n",
    "i_end = int(t_end*srates[p])\n",
    "\n",
    "for p in param_names:\n",
    "# get min and max variance and means for p\n",
    "    v_min = min(variances[p].itervalues())\n",
    "    v_max = max(variances[p].itervalues())\n",
    "    v_range = v_max - v_min\n",
    "    m_min = min(means[p].itervalues())\n",
    "    m_max = max(means[p].itervalues())\n",
    "# prepare figure\n",
    "    fig1, ax = plt.subplots(figsize=(20, 4))\n",
    "    fig1.suptitle(\"Parameter \\\"{}\\\"\".format(p),\n",
    "                  fontsize=20, fontweight='bold')\n",
    "    ax.grid(color='black', linestyle='-', linewidth=1, alpha=0.3, axis='y')\n",
    "    ax.set_xlabel(\"time, (sec)\")\n",
    "    ax.set_ylabel(\"position, (mm)\")\n",
    "# calc range\n",
    "    ax.set_xlim(t_start, t_end)\n",
    "\n",
    "    rate = srates[p]\n",
    "    length = i_end - i_start\n",
    "    y = params[p][i_start:i_end]\n",
    "    p_min = min(min(y), m_min) - 0.5\n",
    "    p_max = max(max(y), m_max) + 0.5\n",
    "\n",
    "#     ax.set_ylim(p_min, p_max)\n",
    "    height = p_max - p_min\n",
    "\n",
    "    #print phonemes\n",
    "    for i in range(0, len(phonemes)):\n",
    "        phone = phonemes[i]\n",
    "        v = variances[p][phone]\n",
    "        varian = gestures_norm[phone].get_variance()\n",
    "        w = exp(-50*v) # varian[p]/ sum(varian.values()))\n",
    "        # w is weight of parameter for this gesture\n",
    "        # w = 1 - (gestures_norm[phone].get_variance[p] v-v_min)/(v_max-v_min)\n",
    "        m = means[p][phone]\n",
    "        clr = colors[int(w*100)]\n",
    "        if t_ends[i] > t_end or t_starts[i] < t_start:\n",
    "            continue\n",
    "        width = t_ends[i]-t_starts[i]\n",
    "        text1 = \"{0}\\n{1:0.1f}\".format(phonemes[i], w)\n",
    "        ax.text(t_starts[i],\n",
    "                p_min+height/10, text1, fontsize=10, color='black')\n",
    "\n",
    "    num_samples = min(len(true_trajectories[p]),  len(estimated_trajectories[p]))\n",
    "    \n",
    "    t = range(i_start, i_end)\n",
    "    t = [i / srates[p] for i in t]\n",
    "    print len(t), len(true_trajectories[p]), len(estimated_trajectories[p])\n",
    "    ax.plot(t, true_trajectories[p][i_start:i_end], color=\"black\", linewidth=1)\n",
    "    ax.plot(t, estimated_trajectories[p][i_start:i_end], color=\"blue\", linewidth=1)\n",
    "    ax.plot(t, target_trajectories[p][i_start:i_end], color=\"blue\", linestyle=\"--\", linewidth=1)\n",
    "\n",
    "\n",
    "    plt.show()"
   ]
  },
  {
   "cell_type": "code",
   "execution_count": null,
   "metadata": {
    "collapsed": true
   },
   "outputs": [],
   "source": []
  },
  {
   "cell_type": "code",
   "execution_count": null,
   "metadata": {
    "collapsed": true
   },
   "outputs": [],
   "source": []
  }
 ],
 "metadata": {
  "kernelspec": {
   "display_name": "Python 2",
   "language": "python",
   "name": "python2"
  },
  "language_info": {
   "codemirror_mode": {
    "name": "ipython",
    "version": 2
   },
   "file_extension": ".py",
   "mimetype": "text/x-python",
   "name": "python",
   "nbconvert_exporter": "python",
   "pygments_lexer": "ipython2",
   "version": "2.7.13"
  }
 },
 "nbformat": 4,
 "nbformat_minor": 0
}
