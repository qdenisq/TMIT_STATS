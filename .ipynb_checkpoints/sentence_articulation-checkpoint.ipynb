{
 "cells": [
  {
   "cell_type": "markdown",
   "metadata": {},
   "source": [
    "# Sentence Articulation"
   ]
  },
  {
   "cell_type": "markdown",
   "metadata": {},
   "source": [
    "## Load Sentence"
   ]
  },
  {
   "cell_type": "code",
   "execution_count": 26,
   "metadata": {
    "collapsed": false
   },
   "outputs": [
    {
     "name": "stdout",
     "output_type": "stream",
     "text": [
      "Populating the interactive namespace from numpy and matplotlib\n",
      "Sentence \"../USC-TIMIT/EMA/Data/M1\\trans\\usctimit_ema_m1_001_005.trans\" loaded succesfully\n"
     ]
    },
    {
     "name": "stderr",
     "output_type": "stream",
     "text": [
      "WARNING: pylab import has clobbered these variables: ['colors']\n",
      "`%matplotlib` prevents importing * from pylab and numpy\n"
     ]
    }
   ],
   "source": [
    "import timit_stats as ts\n",
    "import gesture as ges\n",
    "import os\n",
    "import matplotlib.pyplot as plt\n",
    "\n",
    "%pylab inline\n",
    "\n",
    "root_dir = \"../USC-TIMIT/EMA/Data/M1\"\n",
    "index = 0\n",
    "\n",
    "t_names, m_names = zip(*ts.list_TIMIT_dir(root_dir))\n",
    "trans_fname = t_names[index]\n",
    "mat_fname = m_names[index]\n",
    "\n",
    "# parse .trans file\n",
    "t_starts, t_ends, phonemes, words, sentences = ts.parse_transcription(trans_fname)\n",
    "phones = list(set(phonemes))\n",
    "# parse .mat file\n",
    "params, srates = ts.parse_mat(mat_fname)\n",
    "print \"Sentence \\\"{}\\\" loaded succesfully\".format(trans_fname)"
   ]
  },
  {
   "cell_type": "markdown",
   "metadata": {},
   "source": [
    "## Calc Gestures And Variances"
   ]
  },
  {
   "cell_type": "code",
   "execution_count": 68,
   "metadata": {
    "collapsed": false
   },
   "outputs": [
    {
     "name": "stdout",
     "output_type": "stream",
     "text": [
      "gestures calculation finished\n",
      "Means and variances calculated succesfully\n"
     ]
    }
   ],
   "source": [
    "gestures = {}\n",
    "means = {} # key : param_name, value: dict(ges, val)\n",
    "variances = {} # key : param_name, value: dict(ges, val)\n",
    "\n",
    "articulators = [\"LL\", \"UL\", \"TT\", \"TB\", \"TD\", \"JAW\"]\n",
    "domains=[\"_x\", \"_y\"]\n",
    "param_names = [a+d for a in articulators for d in domains]\n",
    "\n",
    "for i in range(len(t_names)):\n",
    "    t_fname = t_names[i]\n",
    "    mat_fname = m_names[i]\n",
    "    gest = ts.calc_gestures(mat_fname, t_fname)\n",
    "    for g in gest:\n",
    "        if g not in gestures:\n",
    "            gestures[g] = ges.Gesture(g)\n",
    "        gestures[g].extend(gest[g])\n",
    "print \"gestures calculation finished\"\n",
    "\n",
    "for p in param_names:\n",
    "    means[p] = {}\n",
    "    variances[p] = {}   \n",
    "\n",
    "for g in gestures:\n",
    "    g_m = gestures[g].get_mean()\n",
    "    g_v = gestures[g].get_variance()\n",
    "    for p in param_names:\n",
    "        means[p][g] = g_m[p]\n",
    "        variances[p][g] = g_v[p]\n",
    "\n",
    "print \"Means and variances calculated succesfully\""
   ]
  },
  {
   "cell_type": "markdown",
   "metadata": {},
   "source": [
    "## Plot Sentence Phonemes"
   ]
  },
  {
   "cell_type": "code",
   "execution_count": 109,
   "metadata": {
    "collapsed": false
   },
   "outputs": [
    {
     "data": {
      "image/png": "[encoded data removed]",
      "text/plain": [
       "<matplotlib.figure.Figure at 0x1b41e6d8>"
      ]
     },
     "metadata": {},
     "output_type": "display_data"
    }
   ],
   "source": [
    "import matplotlib.patches as patches\n",
    "\n",
    "cmap = plt.get_cmap('Set3')\n",
    "colors = [cmap(i) for i in np.linspace(0, 1, len(phones))]\n",
    "colors = dict(zip(phones, colors))\n",
    "\n",
    "# show first 20 phonemes except first one (\"silence\")\n",
    "show_start = 15\n",
    "num_to_show = 10\n",
    "show_last = min(len(phonemes), show_start + num_to_show)\n",
    "\n",
    "\n",
    "fig1, ax1 = plt.subplots(figsize=(20, 4))\n",
    "ax1.set_xlim(t_starts[show_start], t_ends[show_last-1])\n",
    "ax1.set_ylim(0, 1.0)\n",
    "for i in range(show_start, show_last):\n",
    "    width = t_ends[i]-t_starts[i]\n",
    "    height = 1.0\n",
    "    ax1.add_patch(patches.Rectangle((t_starts[i], 0.0),\n",
    "                                    width, height, color=colors[phonemes[i]]))  \n",
    "    ax1.text(t_starts[i]+width/2-0.005, height/2, phonemes[i], fontsize=15)\n",
    "plt.show()"
   ]
  },
  {
   "cell_type": "markdown",
   "metadata": {},
   "source": [
    "#### Plot Articulators"
   ]
  },
  {
   "cell_type": "code",
   "execution_count": 114,
   "metadata": {
    "collapsed": false
   },
   "outputs": [
    {
     "ename": "TypeError",
     "evalue": "unsupported operand type(s) for +: 'dictionary-valueiterator' and 'float'",
     "output_type": "error",
     "traceback": [
      "\u001b[1;31m---------------------------------------------------------------------------\u001b[0m",
      "\u001b[1;31mTypeError\u001b[0m                                 Traceback (most recent call last)",
      "\u001b[1;32m<ipython-input-114-ba9b9a5d93fc>\u001b[0m in \u001b[0;36m<module>\u001b[1;34m()\u001b[0m\n\u001b[0;32m     26\u001b[0m     \u001b[0my\u001b[0m \u001b[1;33m=\u001b[0m \u001b[0mparams\u001b[0m\u001b[1;33m[\u001b[0m\u001b[0mp\u001b[0m\u001b[1;33m]\u001b[0m\u001b[1;33m[\u001b[0m\u001b[0mi_start\u001b[0m\u001b[1;33m:\u001b[0m\u001b[0mi_end\u001b[0m\u001b[1;33m]\u001b[0m\u001b[1;33m\u001b[0m\u001b[0m\n\u001b[0;32m     27\u001b[0m     \u001b[0mp_min\u001b[0m \u001b[1;33m=\u001b[0m \u001b[0mmin\u001b[0m\u001b[1;33m(\u001b[0m\u001b[0my\u001b[0m\u001b[1;33m)\u001b[0m\u001b[1;33m-\u001b[0m\u001b[1;36m0.5\u001b[0m\u001b[1;33m\u001b[0m\u001b[0m\n\u001b[1;32m---> 28\u001b[1;33m     \u001b[0mp_max\u001b[0m \u001b[1;33m=\u001b[0m \u001b[0mmax\u001b[0m\u001b[1;33m(\u001b[0m\u001b[0mmax\u001b[0m\u001b[1;33m(\u001b[0m\u001b[0my\u001b[0m\u001b[1;33m)\u001b[0m\u001b[1;33m,\u001b[0m \u001b[0mmeans\u001b[0m\u001b[1;33m[\u001b[0m\u001b[0mp\u001b[0m\u001b[1;33m]\u001b[0m\u001b[1;33m.\u001b[0m\u001b[0mitervalues\u001b[0m\u001b[1;33m(\u001b[0m\u001b[1;33m)\u001b[0m\u001b[1;33m)\u001b[0m\u001b[1;33m+\u001b[0m\u001b[1;36m0.5\u001b[0m\u001b[1;33m\u001b[0m\u001b[0m\n\u001b[0m\u001b[0;32m     29\u001b[0m \u001b[1;33m\u001b[0m\u001b[0m\n\u001b[0;32m     30\u001b[0m     \u001b[0max\u001b[0m\u001b[1;33m.\u001b[0m\u001b[0mset_ylim\u001b[0m\u001b[1;33m(\u001b[0m\u001b[0mp_min\u001b[0m\u001b[1;33m,\u001b[0m \u001b[0mp_max\u001b[0m\u001b[1;33m)\u001b[0m\u001b[1;33m\u001b[0m\u001b[0m\n",
      "\u001b[1;31mTypeError\u001b[0m: unsupported operand type(s) for +: 'dictionary-valueiterator' and 'float'"
     ]
    },
    {
     "data": {
      "image/png": "[encoded data removed]",
      "text/plain": [
       "<matplotlib.figure.Figure at 0x19c8c278>"
      ]
     },
     "metadata": {},
     "output_type": "display_data"
    }
   ],
   "source": [
    "import copy\n",
    "\n",
    "cmap = plt.get_cmap('gist_heat')\n",
    "colors = [cmap(i) for i in range(100)]\n",
    "colors = list(reversed(colors))\n",
    "\n",
    "for p in param_names:\n",
    "# get min and max variance and means for p\n",
    "    v_min = min(variances[p].itervalues())\n",
    "    v_max = max(variances[p].itervalues())\n",
    "    v_range = v_max - v_min\n",
    "    m_min = min(means[p].itervalues())\n",
    "    m_max = max(means[p].itervalues())\n",
    "# prepare figure\n",
    "    fig1, ax = plt.subplots(figsize=(20, 4))\n",
    "    fig1.suptitle(\"Parameter \\\"{}\\\"\".format(p),\n",
    "                  fontsize=20, fontweight='bold')\n",
    "    ax.grid(color='black', linestyle='-', linewidth=1, alpha=0.3, axis='y')\n",
    "    ax.set_xlabel(\"time, (sec)\")\n",
    "    ax.set_ylabel(\"position, (mm)\")\n",
    "# calc range    \n",
    "    ax.set_xlim(t_starts[show_start], t_ends[show_last-1])\n",
    "    \n",
    "    rate = srates[p]\n",
    "    i_start = int(t_starts[show_start] * rate)\n",
    "    i_end = int(t_ends[show_last-1] * rate)\n",
    "    length = i_end - i_start\n",
    "    y = params[p][i_start:i_end]\n",
    "    p_min = min(y)-0.5\n",
    "    p_max = max(max(y), means[p].itervalues())+0.5\n",
    "    \n",
    "    ax.set_ylim(p_min, p_max)\n",
    "    height = p_max - p_min\n",
    "    \n",
    "    for i in range(show_start, show_last):\n",
    "        phone = phonemes[i]\n",
    "        v = variances[p][phone]\n",
    "        w = 1 - (v-v_min)/(v_max-v_min)\n",
    "        clr = colors[int((v-v_min)/(v_max-v_min)*100)-1]\n",
    "        \n",
    "        width = t_ends[i]-t_starts[i]\n",
    "        ax.add_patch(patches.Rectangle((t_starts[i], p_min),\n",
    "                                       width, height, color=clr, alpha=0.9))\n",
    "        ax.add_patch(patches.Rectangle((t_starts[i], p_min),\n",
    "                                       width, means[p][phone], color=\"w\", alpha=0.2))\n",
    "        text1 =  \"{0}\\nv:{1:0.1f}\\nw:{2:0.1f}\".format(phonemes[i], v,w)\n",
    "        ax.text(t_starts[i]+width/2-0.005,\n",
    "                p_min+height/10, text1, fontsize=12, color='w')\n",
    "\n",
    "   \n",
    "    t = range(i_start,i_end)\n",
    "    t = [i / srates[p_name] for i in t]\n",
    "    ax.plot(t, y, color=\"w\", linewidth=3)\n",
    "    \n",
    "    plt.show()\n",
    "    \n",
    "\n"
   ]
  },
  {
   "cell_type": "code",
   "execution_count": null,
   "metadata": {
    "collapsed": true
   },
   "outputs": [],
   "source": []
  }
 ],
 "metadata": {
  "kernelspec": {
   "display_name": "Python 2",
   "language": "python",
   "name": "python2"
  },
  "language_info": {
   "codemirror_mode": {
    "name": "ipython",
    "version": 2
   },
   "file_extension": ".py",
   "mimetype": "text/x-python",
   "name": "python",
   "nbconvert_exporter": "python",
   "pygments_lexer": "ipython2",
   "version": "2.7.13"
  }
 },
 "nbformat": 4,
 "nbformat_minor": 0
}
